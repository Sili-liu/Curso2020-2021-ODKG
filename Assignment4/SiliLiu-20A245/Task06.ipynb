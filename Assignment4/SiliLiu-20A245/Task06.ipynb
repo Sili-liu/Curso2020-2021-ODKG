{
  "nbformat": 4,
  "nbformat_minor": 0,
  "metadata": {
    "colab": {
      "name": "Task06.ipynb",
      "provenance": [],
      "collapsed_sections": []
    },
    "kernelspec": {
      "name": "python3",
      "display_name": "Python 3"
    }
  },
  "cells": [
    {
      "cell_type": "markdown",
      "metadata": {
        "id": "nOOPLCHF7hLB"
      },
      "source": [
        "**Task 06: Modifying RDF(s)**"
      ]
    },
    {
      "cell_type": "code",
      "metadata": {
        "id": "Yl9npCt8n6m-",
<<<<<<< HEAD
        "outputId": "eadfc1c1-7489-4c5d-f7cd-37b31ccb9cf3",
        "colab": {
          "base_uri": "https://localhost:8080/",
          "height": 89
=======
        "outputId": "023d362d-9493-4c1f-d5b8-1d105ae592b3",
        "colab": {
          "base_uri": "https://localhost:8080/",
          "height": 197
>>>>>>> e3d25eee9e7cac722c1032c145c44eb2ee3ceb20
        }
      },
      "source": [
        "!pip install rdflib \n",
        "github_storage = \"https://raw.githubusercontent.com/FacultadInformatica-LinkedData/Curso2020-2021/master/Assignment4\""
      ],
<<<<<<< HEAD
      "execution_count": 10,
=======
      "execution_count": 1,
>>>>>>> e3d25eee9e7cac722c1032c145c44eb2ee3ceb20
      "outputs": [
        {
          "output_type": "stream",
          "text": [
<<<<<<< HEAD
            "Requirement already satisfied: rdflib in /usr/local/lib/python3.6/dist-packages (5.0.0)\n",
            "Requirement already satisfied: isodate in /usr/local/lib/python3.6/dist-packages (from rdflib) (0.6.0)\n",
            "Requirement already satisfied: pyparsing in /usr/local/lib/python3.6/dist-packages (from rdflib) (2.4.7)\n",
            "Requirement already satisfied: six in /usr/local/lib/python3.6/dist-packages (from rdflib) (1.15.0)\n"
=======
            "Collecting rdflib\n",
            "\u001b[?25l  Downloading https://files.pythonhosted.org/packages/d0/6b/6454aa1db753c0f8bc265a5bd5c10b5721a4bb24160fb4faf758cf6be8a1/rdflib-5.0.0-py3-none-any.whl (231kB)\n",
            "\u001b[K     |████████████████████████████████| 235kB 3.3MB/s \n",
            "\u001b[?25hCollecting isodate\n",
            "\u001b[?25l  Downloading https://files.pythonhosted.org/packages/9b/9f/b36f7774ff5ea8e428fdcfc4bb332c39ee5b9362ddd3d40d9516a55221b2/isodate-0.6.0-py2.py3-none-any.whl (45kB)\n",
            "\u001b[K     |████████████████████████████████| 51kB 5.4MB/s \n",
            "\u001b[?25hRequirement already satisfied: pyparsing in /usr/local/lib/python3.6/dist-packages (from rdflib) (2.4.7)\n",
            "Requirement already satisfied: six in /usr/local/lib/python3.6/dist-packages (from rdflib) (1.15.0)\n",
            "Installing collected packages: isodate, rdflib\n",
            "Successfully installed isodate-0.6.0 rdflib-5.0.0\n"
>>>>>>> e3d25eee9e7cac722c1032c145c44eb2ee3ceb20
          ],
          "name": "stdout"
        }
      ]
    },
    {
      "cell_type": "markdown",
      "metadata": {
        "id": "XY7aPc86Bqoo"
      },
      "source": [
        "Read the RDF file"
      ]
    },
    {
      "cell_type": "code",
      "metadata": {
        "id": "9ERh415on7kF",
<<<<<<< HEAD
        "outputId": "7e483330-8d8a-4ff6-a473-1e589f83d5d2",
=======
        "outputId": "972874a0-73a4-4326-ad4c-97f4f51476b1",
>>>>>>> e3d25eee9e7cac722c1032c145c44eb2ee3ceb20
        "colab": {
          "base_uri": "https://localhost:8080/",
          "height": 35
        }
      },
      "source": [
        "from rdflib import Graph, Namespace, Literal\n",
        "from rdflib.namespace import RDF, RDFS\n",
        "g = Graph()\n",
        "g.namespace_manager.bind('ns', Namespace(\"http://somewhere#\"), override=False)\n",
        "g.namespace_manager.bind('vcard', Namespace(\"http://www.w3.org/2001/vcard-rdf/3.0#\"), override=False)\n",
        "g.parse(github_storage+\"/resources/example5.rdf\", format=\"xml\")"
      ],
<<<<<<< HEAD
      "execution_count": 11,
=======
      "execution_count": 2,
>>>>>>> e3d25eee9e7cac722c1032c145c44eb2ee3ceb20
      "outputs": [
        {
          "output_type": "execute_result",
          "data": {
            "text/plain": [
<<<<<<< HEAD
              "<Graph identifier=Nc05cc7cf67f44186b85b4de5c22c2264 (<class 'rdflib.graph.Graph'>)>"
=======
              "<Graph identifier=Na503a398515444c0ad9aeabe2112d98e (<class 'rdflib.graph.Graph'>)>"
>>>>>>> e3d25eee9e7cac722c1032c145c44eb2ee3ceb20
            ]
          },
          "metadata": {
            "tags": []
          },
<<<<<<< HEAD
          "execution_count": 11
=======
          "execution_count": 2
>>>>>>> e3d25eee9e7cac722c1032c145c44eb2ee3ceb20
        }
      ]
    },
    {
      "cell_type": "markdown",
      "metadata": {
        "id": "gM3DASkTQQ5Y"
      },
      "source": [
        "Create a new class named Researcher"
      ]
    },
    {
      "cell_type": "code",
      "metadata": {
        "id": "6vtudax8Xb7b",
<<<<<<< HEAD
        "outputId": "d7991b8a-4103-4401-d3fe-cb8ef6f02983",
=======
        "outputId": "4f7002e4-6871-417d-eba2-3aa7572c0084",
>>>>>>> e3d25eee9e7cac722c1032c145c44eb2ee3ceb20
        "colab": {
          "base_uri": "https://localhost:8080/",
          "height": 305
        }
      },
      "source": [
        "ns = Namespace(\"http://somewhere#\")\n",
        "g.add((ns.Researcher, RDF.type, RDFS.Class))\n",
        "for s, p, o in g:\n",
        "  print(s,p,o)"
      ],
<<<<<<< HEAD
      "execution_count": 12,
=======
      "execution_count": 3,
>>>>>>> e3d25eee9e7cac722c1032c145c44eb2ee3ceb20
      "outputs": [
        {
          "output_type": "stream",
          "text": [
<<<<<<< HEAD
            "http://www.w3.org/2001/vcard-rdf/3.0/Family http://www.w3.org/1999/02/22-rdf-syntax-ns#type http://www.w3.org/2000/01/rdf-schema#Property\n",
            "http://somewhere#SaraJones http://www.w3.org/2001/vcard-rdf/3.0/FN Sara Jones\n",
            "http://somewhere#JohnSmith http://www.w3.org/2001/vcard-rdf/3.0/FN John Smith\n",
            "http://www.w3.org/2001/vcard-rdf/3.0/Given http://www.w3.org/1999/02/22-rdf-syntax-ns#type http://www.w3.org/2000/01/rdf-schema#Datatype\n",
            "http://somewhere#Person http://www.w3.org/1999/02/22-rdf-syntax-ns#type http://www.w3.org/2000/01/rdf-schema#Class\n",
            "http://somewhere#Researcher http://www.w3.org/1999/02/22-rdf-syntax-ns#type http://www.w3.org/2000/01/rdf-schema#Class\n",
            "http://www.w3.org/2001/vcard-rdf/3.0/Given http://www.w3.org/2000/01/rdf-schema#range http://www.w3.org/2001/XMLSchema#string\n",
            "http://somewhere#SaraJones http://www.w3.org/2001/vcard-rdf/3.0/Given Sara\n",
            "http://www.w3.org/2001/vcard-rdf/3.0/Family http://www.w3.org/2000/01/rdf-schema#range http://www.w3.org/2001/XMLSchema#string\n",
            "http://somewhere#SaraJones http://www.w3.org/2001/vcard-rdf/3.0/Family Jones\n",
            "http://somewhere#JohnSmith http://www.w3.org/2001/vcard-rdf/3.0/Given John\n",
            "http://www.w3.org/2001/vcard-rdf/3.0/FN http://www.w3.org/2000/01/rdf-schema#range http://www.w3.org/2001/XMLSchema#string\n",
            "http://somewhere#SaraJones http://www.w3.org/1999/02/22-rdf-syntax-ns#type http://somewhere#Person\n",
            "http://somewhere#JohnSmith http://www.w3.org/1999/02/22-rdf-syntax-ns#type http://somewhere#Person\n",
            "http://www.w3.org/2001/vcard-rdf/3.0/FN http://www.w3.org/1999/02/22-rdf-syntax-ns#type http://www.w3.org/2000/01/rdf-schema#Datatype\n",
            "http://somewhere#JohnSmith http://www.w3.org/2001/vcard-rdf/3.0/Family Smith\n"
=======
            "http://somewhere#JohnSmith http://www.w3.org/2001/vcard-rdf/3.0/Given John\n",
            "http://somewhere#Researcher http://www.w3.org/1999/02/22-rdf-syntax-ns#type http://www.w3.org/2000/01/rdf-schema#Class\n",
            "http://somewhere#SaraJones http://www.w3.org/1999/02/22-rdf-syntax-ns#type http://somewhere#Person\n",
            "http://somewhere#JohnSmith http://www.w3.org/2001/vcard-rdf/3.0/FN John Smith\n",
            "http://www.w3.org/2001/vcard-rdf/3.0/Given http://www.w3.org/1999/02/22-rdf-syntax-ns#type http://www.w3.org/2000/01/rdf-schema#Datatype\n",
            "http://www.w3.org/2001/vcard-rdf/3.0/FN http://www.w3.org/2000/01/rdf-schema#range http://www.w3.org/2001/XMLSchema#string\n",
            "http://www.w3.org/2001/vcard-rdf/3.0/Given http://www.w3.org/2000/01/rdf-schema#range http://www.w3.org/2001/XMLSchema#string\n",
            "http://www.w3.org/2001/vcard-rdf/3.0/Family http://www.w3.org/1999/02/22-rdf-syntax-ns#type http://www.w3.org/2000/01/rdf-schema#Property\n",
            "http://somewhere#JohnSmith http://www.w3.org/2001/vcard-rdf/3.0/Family Smith\n",
            "http://somewhere#SaraJones http://www.w3.org/2001/vcard-rdf/3.0/FN Sara Jones\n",
            "http://somewhere#JohnSmith http://www.w3.org/1999/02/22-rdf-syntax-ns#type http://somewhere#Person\n",
            "http://somewhere#SaraJones http://www.w3.org/2001/vcard-rdf/3.0/Family Jones\n",
            "http://www.w3.org/2001/vcard-rdf/3.0/Family http://www.w3.org/2000/01/rdf-schema#range http://www.w3.org/2001/XMLSchema#string\n",
            "http://www.w3.org/2001/vcard-rdf/3.0/FN http://www.w3.org/1999/02/22-rdf-syntax-ns#type http://www.w3.org/2000/01/rdf-schema#Datatype\n",
            "http://somewhere#Person http://www.w3.org/1999/02/22-rdf-syntax-ns#type http://www.w3.org/2000/01/rdf-schema#Class\n",
            "http://somewhere#SaraJones http://www.w3.org/2001/vcard-rdf/3.0/Given Sara\n"
>>>>>>> e3d25eee9e7cac722c1032c145c44eb2ee3ceb20
          ],
          "name": "stdout"
        }
      ]
    },
    {
      "cell_type": "markdown",
      "metadata": {
        "id": "qp1oe2Eddsvo"
      },
      "source": [
        "**TASK 6.1: Create a new class named \"University\"**"
      ]
    },
    {
      "cell_type": "code",
      "metadata": {
        "id": "s0SW3scI9myQ",
<<<<<<< HEAD
        "outputId": "91807096-844b-4a5e-b38f-e191c62a5c94",
=======
        "outputId": "e40dd330-9e41-4b6e-ec73-fd186c99d2d1",
>>>>>>> e3d25eee9e7cac722c1032c145c44eb2ee3ceb20
        "colab": {
          "base_uri": "https://localhost:8080/",
          "height": 323
        }
      },
      "source": [
        "g.add((ns.University, RDF.type, RDFS.Class))\n",
        "for s, p, o in g:\n",
        "  print(s,p,o)"
      ],
<<<<<<< HEAD
      "execution_count": 13,
=======
      "execution_count": 4,
>>>>>>> e3d25eee9e7cac722c1032c145c44eb2ee3ceb20
      "outputs": [
        {
          "output_type": "stream",
          "text": [
<<<<<<< HEAD
            "http://www.w3.org/2001/vcard-rdf/3.0/Family http://www.w3.org/1999/02/22-rdf-syntax-ns#type http://www.w3.org/2000/01/rdf-schema#Property\n",
            "http://somewhere#SaraJones http://www.w3.org/2001/vcard-rdf/3.0/FN Sara Jones\n",
            "http://somewhere#JohnSmith http://www.w3.org/2001/vcard-rdf/3.0/FN John Smith\n",
            "http://www.w3.org/2001/vcard-rdf/3.0/Given http://www.w3.org/1999/02/22-rdf-syntax-ns#type http://www.w3.org/2000/01/rdf-schema#Datatype\n",
            "http://somewhere#Person http://www.w3.org/1999/02/22-rdf-syntax-ns#type http://www.w3.org/2000/01/rdf-schema#Class\n",
            "http://somewhere#Researcher http://www.w3.org/1999/02/22-rdf-syntax-ns#type http://www.w3.org/2000/01/rdf-schema#Class\n",
            "http://www.w3.org/2001/vcard-rdf/3.0/Given http://www.w3.org/2000/01/rdf-schema#range http://www.w3.org/2001/XMLSchema#string\n",
            "http://somewhere#SaraJones http://www.w3.org/2001/vcard-rdf/3.0/Given Sara\n",
            "http://www.w3.org/2001/vcard-rdf/3.0/Family http://www.w3.org/2000/01/rdf-schema#range http://www.w3.org/2001/XMLSchema#string\n",
            "http://somewhere#University http://www.w3.org/1999/02/22-rdf-syntax-ns#type http://www.w3.org/2000/01/rdf-schema#Class\n",
            "http://somewhere#SaraJones http://www.w3.org/2001/vcard-rdf/3.0/Family Jones\n",
            "http://somewhere#JohnSmith http://www.w3.org/2001/vcard-rdf/3.0/Given John\n",
            "http://www.w3.org/2001/vcard-rdf/3.0/FN http://www.w3.org/2000/01/rdf-schema#range http://www.w3.org/2001/XMLSchema#string\n",
            "http://somewhere#SaraJones http://www.w3.org/1999/02/22-rdf-syntax-ns#type http://somewhere#Person\n",
            "http://somewhere#JohnSmith http://www.w3.org/1999/02/22-rdf-syntax-ns#type http://somewhere#Person\n",
            "http://www.w3.org/2001/vcard-rdf/3.0/FN http://www.w3.org/1999/02/22-rdf-syntax-ns#type http://www.w3.org/2000/01/rdf-schema#Datatype\n",
            "http://somewhere#JohnSmith http://www.w3.org/2001/vcard-rdf/3.0/Family Smith\n"
=======
            "http://somewhere#JohnSmith http://www.w3.org/2001/vcard-rdf/3.0/Given John\n",
            "http://somewhere#Researcher http://www.w3.org/1999/02/22-rdf-syntax-ns#type http://www.w3.org/2000/01/rdf-schema#Class\n",
            "http://somewhere#University http://www.w3.org/1999/02/22-rdf-syntax-ns#type http://www.w3.org/2000/01/rdf-schema#Class\n",
            "http://somewhere#SaraJones http://www.w3.org/1999/02/22-rdf-syntax-ns#type http://somewhere#Person\n",
            "http://somewhere#JohnSmith http://www.w3.org/2001/vcard-rdf/3.0/FN John Smith\n",
            "http://www.w3.org/2001/vcard-rdf/3.0/Given http://www.w3.org/1999/02/22-rdf-syntax-ns#type http://www.w3.org/2000/01/rdf-schema#Datatype\n",
            "http://www.w3.org/2001/vcard-rdf/3.0/FN http://www.w3.org/2000/01/rdf-schema#range http://www.w3.org/2001/XMLSchema#string\n",
            "http://www.w3.org/2001/vcard-rdf/3.0/Given http://www.w3.org/2000/01/rdf-schema#range http://www.w3.org/2001/XMLSchema#string\n",
            "http://www.w3.org/2001/vcard-rdf/3.0/Family http://www.w3.org/1999/02/22-rdf-syntax-ns#type http://www.w3.org/2000/01/rdf-schema#Property\n",
            "http://somewhere#JohnSmith http://www.w3.org/2001/vcard-rdf/3.0/Family Smith\n",
            "http://somewhere#SaraJones http://www.w3.org/2001/vcard-rdf/3.0/FN Sara Jones\n",
            "http://somewhere#JohnSmith http://www.w3.org/1999/02/22-rdf-syntax-ns#type http://somewhere#Person\n",
            "http://somewhere#SaraJones http://www.w3.org/2001/vcard-rdf/3.0/Family Jones\n",
            "http://www.w3.org/2001/vcard-rdf/3.0/Family http://www.w3.org/2000/01/rdf-schema#range http://www.w3.org/2001/XMLSchema#string\n",
            "http://www.w3.org/2001/vcard-rdf/3.0/FN http://www.w3.org/1999/02/22-rdf-syntax-ns#type http://www.w3.org/2000/01/rdf-schema#Datatype\n",
            "http://somewhere#Person http://www.w3.org/1999/02/22-rdf-syntax-ns#type http://www.w3.org/2000/01/rdf-schema#Class\n",
            "http://somewhere#SaraJones http://www.w3.org/2001/vcard-rdf/3.0/Given Sara\n"
>>>>>>> e3d25eee9e7cac722c1032c145c44eb2ee3ceb20
          ],
          "name": "stdout"
        }
      ]
    },
    {
      "cell_type": "markdown",
      "metadata": {
        "id": "MXBqtBkJd22I"
      },
      "source": [
        "**TASK 6.2: Add \"Researcher\" as a subclass of \"Person\"**"
      ]
    },
    {
      "cell_type": "code",
      "metadata": {
        "id": "JAtsX5Qg_ygI",
<<<<<<< HEAD
        "outputId": "2a4ac099-71b2-4125-c8f8-a4adbdfcb43b",
=======
        "outputId": "ee2799b3-d062-4e95-d5df-61e2ea2be315",
>>>>>>> e3d25eee9e7cac722c1032c145c44eb2ee3ceb20
        "colab": {
          "base_uri": "https://localhost:8080/",
          "height": 341
        }
      },
      "source": [
        "g.add((ns.Researcher, RDFS.subClassOf, ns.Person ))\n",
        "for s, p, o in g:\n",
        "  print(s,p,o)"
      ],
<<<<<<< HEAD
      "execution_count": 14,
=======
      "execution_count": 5,
>>>>>>> e3d25eee9e7cac722c1032c145c44eb2ee3ceb20
      "outputs": [
        {
          "output_type": "stream",
          "text": [
<<<<<<< HEAD
            "http://www.w3.org/2001/vcard-rdf/3.0/Family http://www.w3.org/1999/02/22-rdf-syntax-ns#type http://www.w3.org/2000/01/rdf-schema#Property\n",
            "http://somewhere#SaraJones http://www.w3.org/2001/vcard-rdf/3.0/FN Sara Jones\n",
            "http://somewhere#JohnSmith http://www.w3.org/2001/vcard-rdf/3.0/FN John Smith\n",
            "http://www.w3.org/2001/vcard-rdf/3.0/Given http://www.w3.org/1999/02/22-rdf-syntax-ns#type http://www.w3.org/2000/01/rdf-schema#Datatype\n",
            "http://somewhere#Person http://www.w3.org/1999/02/22-rdf-syntax-ns#type http://www.w3.org/2000/01/rdf-schema#Class\n",
            "http://somewhere#Researcher http://www.w3.org/1999/02/22-rdf-syntax-ns#type http://www.w3.org/2000/01/rdf-schema#Class\n",
            "http://www.w3.org/2001/vcard-rdf/3.0/Given http://www.w3.org/2000/01/rdf-schema#range http://www.w3.org/2001/XMLSchema#string\n",
            "http://somewhere#SaraJones http://www.w3.org/2001/vcard-rdf/3.0/Given Sara\n",
            "http://somewhere#Researcher http://www.w3.org/2000/01/rdf-schema#subClassOf http://somewhere#Person\n",
            "http://www.w3.org/2001/vcard-rdf/3.0/Family http://www.w3.org/2000/01/rdf-schema#range http://www.w3.org/2001/XMLSchema#string\n",
            "http://somewhere#University http://www.w3.org/1999/02/22-rdf-syntax-ns#type http://www.w3.org/2000/01/rdf-schema#Class\n",
            "http://somewhere#SaraJones http://www.w3.org/2001/vcard-rdf/3.0/Family Jones\n",
            "http://somewhere#JohnSmith http://www.w3.org/2001/vcard-rdf/3.0/Given John\n",
            "http://www.w3.org/2001/vcard-rdf/3.0/FN http://www.w3.org/2000/01/rdf-schema#range http://www.w3.org/2001/XMLSchema#string\n",
            "http://somewhere#SaraJones http://www.w3.org/1999/02/22-rdf-syntax-ns#type http://somewhere#Person\n",
            "http://somewhere#JohnSmith http://www.w3.org/1999/02/22-rdf-syntax-ns#type http://somewhere#Person\n",
            "http://www.w3.org/2001/vcard-rdf/3.0/FN http://www.w3.org/1999/02/22-rdf-syntax-ns#type http://www.w3.org/2000/01/rdf-schema#Datatype\n",
            "http://somewhere#JohnSmith http://www.w3.org/2001/vcard-rdf/3.0/Family Smith\n"
=======
            "http://somewhere#JohnSmith http://www.w3.org/2001/vcard-rdf/3.0/Given John\n",
            "http://somewhere#Researcher http://www.w3.org/1999/02/22-rdf-syntax-ns#type http://www.w3.org/2000/01/rdf-schema#Class\n",
            "http://somewhere#University http://www.w3.org/1999/02/22-rdf-syntax-ns#type http://www.w3.org/2000/01/rdf-schema#Class\n",
            "http://somewhere#SaraJones http://www.w3.org/1999/02/22-rdf-syntax-ns#type http://somewhere#Person\n",
            "http://somewhere#JohnSmith http://www.w3.org/2001/vcard-rdf/3.0/FN John Smith\n",
            "http://www.w3.org/2001/vcard-rdf/3.0/Given http://www.w3.org/1999/02/22-rdf-syntax-ns#type http://www.w3.org/2000/01/rdf-schema#Datatype\n",
            "http://www.w3.org/2001/vcard-rdf/3.0/FN http://www.w3.org/2000/01/rdf-schema#range http://www.w3.org/2001/XMLSchema#string\n",
            "http://www.w3.org/2001/vcard-rdf/3.0/Given http://www.w3.org/2000/01/rdf-schema#range http://www.w3.org/2001/XMLSchema#string\n",
            "http://www.w3.org/2001/vcard-rdf/3.0/Family http://www.w3.org/1999/02/22-rdf-syntax-ns#type http://www.w3.org/2000/01/rdf-schema#Property\n",
            "http://somewhere#JohnSmith http://www.w3.org/2001/vcard-rdf/3.0/Family Smith\n",
            "http://somewhere#SaraJones http://www.w3.org/2001/vcard-rdf/3.0/FN Sara Jones\n",
            "http://somewhere#JohnSmith http://www.w3.org/1999/02/22-rdf-syntax-ns#type http://somewhere#Person\n",
            "http://somewhere#SaraJones http://www.w3.org/2001/vcard-rdf/3.0/Family Jones\n",
            "http://somewhere#Researcher http://www.w3.org/2000/01/rdf-schema#subClassOf http://somewhere#Person\n",
            "http://www.w3.org/2001/vcard-rdf/3.0/Family http://www.w3.org/2000/01/rdf-schema#range http://www.w3.org/2001/XMLSchema#string\n",
            "http://www.w3.org/2001/vcard-rdf/3.0/FN http://www.w3.org/1999/02/22-rdf-syntax-ns#type http://www.w3.org/2000/01/rdf-schema#Datatype\n",
            "http://somewhere#Person http://www.w3.org/1999/02/22-rdf-syntax-ns#type http://www.w3.org/2000/01/rdf-schema#Class\n",
            "http://somewhere#SaraJones http://www.w3.org/2001/vcard-rdf/3.0/Given Sara\n"
>>>>>>> e3d25eee9e7cac722c1032c145c44eb2ee3ceb20
          ],
          "name": "stdout"
        }
      ]
    },
    {
      "cell_type": "markdown",
      "metadata": {
        "id": "OGct6k7Ld9O0"
      },
      "source": [
        "**TASK 6.3: Create a new individual of Researcher named \"Jane Smith\"**"
      ]
    },
    {
      "cell_type": "code",
      "metadata": {
        "id": "lj4LNWToAM2J",
<<<<<<< HEAD
        "outputId": "832495db-d174-47c4-c330-7a104dfc240d",
=======
        "outputId": "2c14648e-969d-42be-cf91-e5d781746407",
>>>>>>> e3d25eee9e7cac722c1032c145c44eb2ee3ceb20
        "colab": {
          "base_uri": "https://localhost:8080/",
          "height": 359
        }
      },
      "source": [
        "g.add((ns.JaneSmith, RDF.type, ns.Researcher))\n",
        "for s, p, o in g:\n",
        "  print(s,p,o)"
      ],
<<<<<<< HEAD
      "execution_count": 15,
=======
      "execution_count": 6,
>>>>>>> e3d25eee9e7cac722c1032c145c44eb2ee3ceb20
      "outputs": [
        {
          "output_type": "stream",
          "text": [
<<<<<<< HEAD
            "http://www.w3.org/2001/vcard-rdf/3.0/Family http://www.w3.org/1999/02/22-rdf-syntax-ns#type http://www.w3.org/2000/01/rdf-schema#Property\n",
            "http://somewhere#SaraJones http://www.w3.org/2001/vcard-rdf/3.0/FN Sara Jones\n",
            "http://somewhere#JohnSmith http://www.w3.org/2001/vcard-rdf/3.0/FN John Smith\n",
            "http://www.w3.org/2001/vcard-rdf/3.0/Given http://www.w3.org/1999/02/22-rdf-syntax-ns#type http://www.w3.org/2000/01/rdf-schema#Datatype\n",
            "http://somewhere#Person http://www.w3.org/1999/02/22-rdf-syntax-ns#type http://www.w3.org/2000/01/rdf-schema#Class\n",
            "http://somewhere#Researcher http://www.w3.org/1999/02/22-rdf-syntax-ns#type http://www.w3.org/2000/01/rdf-schema#Class\n",
            "http://www.w3.org/2001/vcard-rdf/3.0/Given http://www.w3.org/2000/01/rdf-schema#range http://www.w3.org/2001/XMLSchema#string\n",
            "http://somewhere#SaraJones http://www.w3.org/2001/vcard-rdf/3.0/Given Sara\n",
            "http://somewhere#Researcher http://www.w3.org/2000/01/rdf-schema#subClassOf http://somewhere#Person\n",
            "http://www.w3.org/2001/vcard-rdf/3.0/Family http://www.w3.org/2000/01/rdf-schema#range http://www.w3.org/2001/XMLSchema#string\n",
            "http://somewhere#JaneSmith http://www.w3.org/1999/02/22-rdf-syntax-ns#type http://somewhere#Researcher\n",
            "http://somewhere#University http://www.w3.org/1999/02/22-rdf-syntax-ns#type http://www.w3.org/2000/01/rdf-schema#Class\n",
            "http://somewhere#SaraJones http://www.w3.org/2001/vcard-rdf/3.0/Family Jones\n",
            "http://somewhere#JohnSmith http://www.w3.org/2001/vcard-rdf/3.0/Given John\n",
            "http://www.w3.org/2001/vcard-rdf/3.0/FN http://www.w3.org/2000/01/rdf-schema#range http://www.w3.org/2001/XMLSchema#string\n",
            "http://somewhere#SaraJones http://www.w3.org/1999/02/22-rdf-syntax-ns#type http://somewhere#Person\n",
            "http://somewhere#JohnSmith http://www.w3.org/1999/02/22-rdf-syntax-ns#type http://somewhere#Person\n",
            "http://www.w3.org/2001/vcard-rdf/3.0/FN http://www.w3.org/1999/02/22-rdf-syntax-ns#type http://www.w3.org/2000/01/rdf-schema#Datatype\n",
            "http://somewhere#JohnSmith http://www.w3.org/2001/vcard-rdf/3.0/Family Smith\n"
=======
            "http://somewhere#JohnSmith http://www.w3.org/2001/vcard-rdf/3.0/Given John\n",
            "http://somewhere#Researcher http://www.w3.org/1999/02/22-rdf-syntax-ns#type http://www.w3.org/2000/01/rdf-schema#Class\n",
            "http://somewhere#University http://www.w3.org/1999/02/22-rdf-syntax-ns#type http://www.w3.org/2000/01/rdf-schema#Class\n",
            "http://somewhere#SaraJones http://www.w3.org/1999/02/22-rdf-syntax-ns#type http://somewhere#Person\n",
            "http://somewhere#JohnSmith http://www.w3.org/2001/vcard-rdf/3.0/FN John Smith\n",
            "http://www.w3.org/2001/vcard-rdf/3.0/Given http://www.w3.org/1999/02/22-rdf-syntax-ns#type http://www.w3.org/2000/01/rdf-schema#Datatype\n",
            "http://www.w3.org/2001/vcard-rdf/3.0/FN http://www.w3.org/2000/01/rdf-schema#range http://www.w3.org/2001/XMLSchema#string\n",
            "http://www.w3.org/2001/vcard-rdf/3.0/Given http://www.w3.org/2000/01/rdf-schema#range http://www.w3.org/2001/XMLSchema#string\n",
            "http://www.w3.org/2001/vcard-rdf/3.0/Family http://www.w3.org/1999/02/22-rdf-syntax-ns#type http://www.w3.org/2000/01/rdf-schema#Property\n",
            "http://somewhere#JohnSmith http://www.w3.org/2001/vcard-rdf/3.0/Family Smith\n",
            "http://somewhere#SaraJones http://www.w3.org/2001/vcard-rdf/3.0/FN Sara Jones\n",
            "http://somewhere#JaneSmith http://www.w3.org/1999/02/22-rdf-syntax-ns#type http://somewhere#Researcher\n",
            "http://somewhere#JohnSmith http://www.w3.org/1999/02/22-rdf-syntax-ns#type http://somewhere#Person\n",
            "http://somewhere#SaraJones http://www.w3.org/2001/vcard-rdf/3.0/Family Jones\n",
            "http://somewhere#Researcher http://www.w3.org/2000/01/rdf-schema#subClassOf http://somewhere#Person\n",
            "http://www.w3.org/2001/vcard-rdf/3.0/Family http://www.w3.org/2000/01/rdf-schema#range http://www.w3.org/2001/XMLSchema#string\n",
            "http://www.w3.org/2001/vcard-rdf/3.0/FN http://www.w3.org/1999/02/22-rdf-syntax-ns#type http://www.w3.org/2000/01/rdf-schema#Datatype\n",
            "http://somewhere#Person http://www.w3.org/1999/02/22-rdf-syntax-ns#type http://www.w3.org/2000/01/rdf-schema#Class\n",
            "http://somewhere#SaraJones http://www.w3.org/2001/vcard-rdf/3.0/Given Sara\n"
>>>>>>> e3d25eee9e7cac722c1032c145c44eb2ee3ceb20
          ],
          "name": "stdout"
        }
      ]
    },
    {
      "cell_type": "markdown",
      "metadata": {
        "id": "tD383J__eHfV"
      },
      "source": [
        "**TASK 6.4: Add to the individual JaneSmith the fullName, given and family names**"
      ]
    },
    {
      "cell_type": "code",
      "metadata": {
        "id": "2hn5WWToClNz",
<<<<<<< HEAD
        "outputId": "793f40cc-d671-4a21-bf94-e1c57baca17d",
=======
        "outputId": "2e55aa9c-e2dd-485c-b49a-132277343d78",
>>>>>>> e3d25eee9e7cac722c1032c145c44eb2ee3ceb20
        "colab": {
          "base_uri": "https://localhost:8080/",
          "height": 413
        }
      },
      "source": [
        "fullName = Literal(\"Jane Smith\")\n",
        "givenName = Literal(\"Jane\")\n",
        "familyName = Literal(\"Smith\")\n",
        "\n",
        "vcard = Namespace(\"http://www.w3.org/2001/vcard-rdf/3.0#\")\n",
        "g.add((ns.JaneSmith, vcard.FullName, fullName))\n",
        "g.add((ns.JaneSmith, vcard.GivenName, givenName))\n",
        "g.add((ns.JaneSmith, vcard.FamilyName, familyName))\n",
        "for s, p, o in g:\n",
        "  print(s,p,o)\n"
      ],
<<<<<<< HEAD
      "execution_count": 16,
=======
      "execution_count": 7,
>>>>>>> e3d25eee9e7cac722c1032c145c44eb2ee3ceb20
      "outputs": [
        {
          "output_type": "stream",
          "text": [
<<<<<<< HEAD
            "http://www.w3.org/2001/vcard-rdf/3.0/Family http://www.w3.org/1999/02/22-rdf-syntax-ns#type http://www.w3.org/2000/01/rdf-schema#Property\n",
            "http://somewhere#SaraJones http://www.w3.org/2001/vcard-rdf/3.0/FN Sara Jones\n",
            "http://somewhere#JohnSmith http://www.w3.org/2001/vcard-rdf/3.0/FN John Smith\n",
            "http://www.w3.org/2001/vcard-rdf/3.0/Given http://www.w3.org/1999/02/22-rdf-syntax-ns#type http://www.w3.org/2000/01/rdf-schema#Datatype\n",
            "http://somewhere#Person http://www.w3.org/1999/02/22-rdf-syntax-ns#type http://www.w3.org/2000/01/rdf-schema#Class\n",
            "http://somewhere#Researcher http://www.w3.org/1999/02/22-rdf-syntax-ns#type http://www.w3.org/2000/01/rdf-schema#Class\n",
            "http://somewhere#JaneSmith http://www.w3.org/2001/vcard-rdf/3.0#GivenName Jane\n",
            "http://www.w3.org/2001/vcard-rdf/3.0/Given http://www.w3.org/2000/01/rdf-schema#range http://www.w3.org/2001/XMLSchema#string\n",
            "http://somewhere#SaraJones http://www.w3.org/2001/vcard-rdf/3.0/Given Sara\n",
            "http://somewhere#Researcher http://www.w3.org/2000/01/rdf-schema#subClassOf http://somewhere#Person\n",
            "http://www.w3.org/2001/vcard-rdf/3.0/Family http://www.w3.org/2000/01/rdf-schema#range http://www.w3.org/2001/XMLSchema#string\n",
            "http://somewhere#JaneSmith http://www.w3.org/1999/02/22-rdf-syntax-ns#type http://somewhere#Researcher\n",
            "http://somewhere#JaneSmith http://www.w3.org/2001/vcard-rdf/3.0#FamilyName Smith\n",
            "http://somewhere#JaneSmith http://www.w3.org/2001/vcard-rdf/3.0#FullName Jane Smith\n",
            "http://somewhere#University http://www.w3.org/1999/02/22-rdf-syntax-ns#type http://www.w3.org/2000/01/rdf-schema#Class\n",
            "http://somewhere#SaraJones http://www.w3.org/2001/vcard-rdf/3.0/Family Jones\n",
            "http://somewhere#JohnSmith http://www.w3.org/2001/vcard-rdf/3.0/Given John\n",
            "http://www.w3.org/2001/vcard-rdf/3.0/FN http://www.w3.org/2000/01/rdf-schema#range http://www.w3.org/2001/XMLSchema#string\n",
            "http://somewhere#SaraJones http://www.w3.org/1999/02/22-rdf-syntax-ns#type http://somewhere#Person\n",
            "http://somewhere#JohnSmith http://www.w3.org/1999/02/22-rdf-syntax-ns#type http://somewhere#Person\n",
            "http://www.w3.org/2001/vcard-rdf/3.0/FN http://www.w3.org/1999/02/22-rdf-syntax-ns#type http://www.w3.org/2000/01/rdf-schema#Datatype\n",
            "http://somewhere#JohnSmith http://www.w3.org/2001/vcard-rdf/3.0/Family Smith\n"
=======
            "http://somewhere#JohnSmith http://www.w3.org/2001/vcard-rdf/3.0/Given John\n",
            "http://somewhere#Researcher http://www.w3.org/1999/02/22-rdf-syntax-ns#type http://www.w3.org/2000/01/rdf-schema#Class\n",
            "http://somewhere#University http://www.w3.org/1999/02/22-rdf-syntax-ns#type http://www.w3.org/2000/01/rdf-schema#Class\n",
            "http://somewhere#JaneSmith http://www.w3.org/2001/vcard-rdf/3.0#FullName Jane Smith\n",
            "http://www.w3.org/2001/vcard-rdf/3.0/Given http://www.w3.org/1999/02/22-rdf-syntax-ns#type http://www.w3.org/2000/01/rdf-schema#Datatype\n",
            "http://somewhere#JaneSmith http://www.w3.org/2001/vcard-rdf/3.0#FamilyName Smith\n",
            "http://somewhere#SaraJones http://www.w3.org/1999/02/22-rdf-syntax-ns#type http://somewhere#Person\n",
            "http://somewhere#JohnSmith http://www.w3.org/2001/vcard-rdf/3.0/FN John Smith\n",
            "http://www.w3.org/2001/vcard-rdf/3.0/Given http://www.w3.org/2000/01/rdf-schema#range http://www.w3.org/2001/XMLSchema#string\n",
            "http://www.w3.org/2001/vcard-rdf/3.0/FN http://www.w3.org/2000/01/rdf-schema#range http://www.w3.org/2001/XMLSchema#string\n",
            "http://www.w3.org/2001/vcard-rdf/3.0/Family http://www.w3.org/1999/02/22-rdf-syntax-ns#type http://www.w3.org/2000/01/rdf-schema#Property\n",
            "http://somewhere#JohnSmith http://www.w3.org/2001/vcard-rdf/3.0/Family Smith\n",
            "http://somewhere#SaraJones http://www.w3.org/2001/vcard-rdf/3.0/FN Sara Jones\n",
            "http://somewhere#JaneSmith http://www.w3.org/1999/02/22-rdf-syntax-ns#type http://somewhere#Researcher\n",
            "http://somewhere#JohnSmith http://www.w3.org/1999/02/22-rdf-syntax-ns#type http://somewhere#Person\n",
            "http://somewhere#SaraJones http://www.w3.org/2001/vcard-rdf/3.0/Family Jones\n",
            "http://somewhere#Researcher http://www.w3.org/2000/01/rdf-schema#subClassOf http://somewhere#Person\n",
            "http://somewhere#JaneSmith http://www.w3.org/2001/vcard-rdf/3.0#GivenName Jane\n",
            "http://www.w3.org/2001/vcard-rdf/3.0/Family http://www.w3.org/2000/01/rdf-schema#range http://www.w3.org/2001/XMLSchema#string\n",
            "http://www.w3.org/2001/vcard-rdf/3.0/FN http://www.w3.org/1999/02/22-rdf-syntax-ns#type http://www.w3.org/2000/01/rdf-schema#Datatype\n",
            "http://somewhere#Person http://www.w3.org/1999/02/22-rdf-syntax-ns#type http://www.w3.org/2000/01/rdf-schema#Class\n",
            "http://somewhere#SaraJones http://www.w3.org/2001/vcard-rdf/3.0/Given Sara\n"
>>>>>>> e3d25eee9e7cac722c1032c145c44eb2ee3ceb20
          ],
          "name": "stdout"
        }
      ]
    },
    {
      "cell_type": "markdown",
      "metadata": {
        "id": "GyZOMndoeUj4"
      },
      "source": [
        "**TASK 6.5: Add UPM as the university where John Smith works**"
      ]
    },
    {
      "cell_type": "code",
      "metadata": {
        "id": "C-VvXCoEEade",
<<<<<<< HEAD
        "outputId": "0a9d5d31-effd-4cc4-96e3-66437719a5ee",
        "colab": {
          "base_uri": "https://localhost:8080/",
          "height": 467
=======
        "outputId": "ebf2aef3-a546-485b-b49d-529cf83e5a86",
        "colab": {
          "base_uri": "https://localhost:8080/",
          "height": 449
>>>>>>> e3d25eee9e7cac722c1032c145c44eb2ee3ceb20
        }
      },
      "source": [
        "g.add((ns.UPM, RDF.type, ns.University))\n",
<<<<<<< HEAD
        "g.add((ns.UPM, vcard.hasMember, ns.JohnSmith))\n",
        "for s, p, o in g:\n",
        "  print(s,p,o)"
      ],
      "execution_count": 18,
=======
        "g.add((ns.JaneSmith, vcard.Work, ns.UPM))\n",
        "for s, p, o in g:\n",
        "  print(s,p,o)"
      ],
      "execution_count": 8,
>>>>>>> e3d25eee9e7cac722c1032c145c44eb2ee3ceb20
      "outputs": [
        {
          "output_type": "stream",
          "text": [
<<<<<<< HEAD
            "http://www.w3.org/2001/vcard-rdf/3.0/Family http://www.w3.org/1999/02/22-rdf-syntax-ns#type http://www.w3.org/2000/01/rdf-schema#Property\n",
            "http://somewhere#SaraJones http://www.w3.org/2001/vcard-rdf/3.0/FN Sara Jones\n",
            "http://somewhere#JohnSmith http://www.w3.org/2001/vcard-rdf/3.0/FN John Smith\n",
            "http://www.w3.org/2001/vcard-rdf/3.0/Given http://www.w3.org/1999/02/22-rdf-syntax-ns#type http://www.w3.org/2000/01/rdf-schema#Datatype\n",
            "http://somewhere#Person http://www.w3.org/1999/02/22-rdf-syntax-ns#type http://www.w3.org/2000/01/rdf-schema#Class\n",
            "http://somewhere#Researcher http://www.w3.org/1999/02/22-rdf-syntax-ns#type http://www.w3.org/2000/01/rdf-schema#Class\n",
            "http://somewhere#JaneSmith http://www.w3.org/2001/vcard-rdf/3.0#GivenName Jane\n",
            "http://www.w3.org/2001/vcard-rdf/3.0/Given http://www.w3.org/2000/01/rdf-schema#range http://www.w3.org/2001/XMLSchema#string\n",
            "http://somewhere#SaraJones http://www.w3.org/2001/vcard-rdf/3.0/Given Sara\n",
            "http://somewhere#Researcher http://www.w3.org/2000/01/rdf-schema#subClassOf http://somewhere#Person\n",
            "http://somewhere#UPM http://www.w3.org/2001/vcard-rdf/3.0#hasMember http://somewhere#UPM\n",
            "http://www.w3.org/2001/vcard-rdf/3.0/Family http://www.w3.org/2000/01/rdf-schema#range http://www.w3.org/2001/XMLSchema#string\n",
            "http://somewhere#JaneSmith http://www.w3.org/1999/02/22-rdf-syntax-ns#type http://somewhere#Researcher\n",
            "http://somewhere#JaneSmith http://www.w3.org/2001/vcard-rdf/3.0#FamilyName Smith\n",
            "http://somewhere#JaneSmith http://www.w3.org/2001/vcard-rdf/3.0#FullName Jane Smith\n",
            "http://somewhere#University http://www.w3.org/1999/02/22-rdf-syntax-ns#type http://www.w3.org/2000/01/rdf-schema#Class\n",
            "http://somewhere#SaraJones http://www.w3.org/2001/vcard-rdf/3.0/Family Jones\n",
            "http://somewhere#UPM http://www.w3.org/2001/vcard-rdf/3.0#hasMember http://somewhere#JohnSmith\n",
            "http://somewhere#JohnSmith http://www.w3.org/2001/vcard-rdf/3.0/Given John\n",
            "http://www.w3.org/2001/vcard-rdf/3.0/FN http://www.w3.org/2000/01/rdf-schema#range http://www.w3.org/2001/XMLSchema#string\n",
            "http://somewhere#UPM http://www.w3.org/1999/02/22-rdf-syntax-ns#type http://somewhere#University\n",
            "http://somewhere#SaraJones http://www.w3.org/1999/02/22-rdf-syntax-ns#type http://somewhere#Person\n",
            "http://somewhere#JohnSmith http://www.w3.org/1999/02/22-rdf-syntax-ns#type http://somewhere#Person\n",
            "http://www.w3.org/2001/vcard-rdf/3.0/FN http://www.w3.org/1999/02/22-rdf-syntax-ns#type http://www.w3.org/2000/01/rdf-schema#Datatype\n",
            "http://somewhere#JohnSmith http://www.w3.org/2001/vcard-rdf/3.0/Family Smith\n"
=======
            "http://somewhere#JohnSmith http://www.w3.org/2001/vcard-rdf/3.0/Given John\n",
            "http://somewhere#Researcher http://www.w3.org/1999/02/22-rdf-syntax-ns#type http://www.w3.org/2000/01/rdf-schema#Class\n",
            "http://somewhere#University http://www.w3.org/1999/02/22-rdf-syntax-ns#type http://www.w3.org/2000/01/rdf-schema#Class\n",
            "http://somewhere#JaneSmith http://www.w3.org/2001/vcard-rdf/3.0#FullName Jane Smith\n",
            "http://www.w3.org/2001/vcard-rdf/3.0/Given http://www.w3.org/1999/02/22-rdf-syntax-ns#type http://www.w3.org/2000/01/rdf-schema#Datatype\n",
            "http://somewhere#JaneSmith http://www.w3.org/2001/vcard-rdf/3.0#FamilyName Smith\n",
            "http://somewhere#SaraJones http://www.w3.org/1999/02/22-rdf-syntax-ns#type http://somewhere#Person\n",
            "http://somewhere#JohnSmith http://www.w3.org/2001/vcard-rdf/3.0/FN John Smith\n",
            "http://www.w3.org/2001/vcard-rdf/3.0/Given http://www.w3.org/2000/01/rdf-schema#range http://www.w3.org/2001/XMLSchema#string\n",
            "http://www.w3.org/2001/vcard-rdf/3.0/FN http://www.w3.org/2000/01/rdf-schema#range http://www.w3.org/2001/XMLSchema#string\n",
            "http://somewhere#UPM http://www.w3.org/1999/02/22-rdf-syntax-ns#type http://somewhere#University\n",
            "http://www.w3.org/2001/vcard-rdf/3.0/Family http://www.w3.org/1999/02/22-rdf-syntax-ns#type http://www.w3.org/2000/01/rdf-schema#Property\n",
            "http://somewhere#JohnSmith http://www.w3.org/2001/vcard-rdf/3.0/Family Smith\n",
            "http://somewhere#SaraJones http://www.w3.org/2001/vcard-rdf/3.0/FN Sara Jones\n",
            "http://somewhere#JaneSmith http://www.w3.org/1999/02/22-rdf-syntax-ns#type http://somewhere#Researcher\n",
            "http://somewhere#JohnSmith http://www.w3.org/1999/02/22-rdf-syntax-ns#type http://somewhere#Person\n",
            "http://somewhere#SaraJones http://www.w3.org/2001/vcard-rdf/3.0/Family Jones\n",
            "http://somewhere#Researcher http://www.w3.org/2000/01/rdf-schema#subClassOf http://somewhere#Person\n",
            "http://somewhere#JaneSmith http://www.w3.org/2001/vcard-rdf/3.0#GivenName Jane\n",
            "http://www.w3.org/2001/vcard-rdf/3.0/Family http://www.w3.org/2000/01/rdf-schema#range http://www.w3.org/2001/XMLSchema#string\n",
            "http://www.w3.org/2001/vcard-rdf/3.0/FN http://www.w3.org/1999/02/22-rdf-syntax-ns#type http://www.w3.org/2000/01/rdf-schema#Datatype\n",
            "http://somewhere#JaneSmith http://www.w3.org/2001/vcard-rdf/3.0#Work http://somewhere#UPM\n",
            "http://somewhere#Person http://www.w3.org/1999/02/22-rdf-syntax-ns#type http://www.w3.org/2000/01/rdf-schema#Class\n",
            "http://somewhere#SaraJones http://www.w3.org/2001/vcard-rdf/3.0/Given Sara\n"
>>>>>>> e3d25eee9e7cac722c1032c145c44eb2ee3ceb20
          ],
          "name": "stdout"
        }
      ]
    }
  ]
}