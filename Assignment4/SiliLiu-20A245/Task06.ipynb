{
  "nbformat": 4,
  "nbformat_minor": 0,
  "metadata": {
    "colab": {
      "name": "Task06.ipynb",
      "provenance": [],
      "collapsed_sections": []
    },
    "kernelspec": {
      "name": "python3",
      "display_name": "Python 3"
    }
  },
  "cells": [
    {
      "cell_type": "markdown",
      "metadata": {
        "id": "nOOPLCHF7hLB"
      },
      "source": [
        "**Task 06: Modifying RDF(s)**"
      ]
    },
    {
      "cell_type": "code",
      "metadata": {
        "id": "Yl9npCt8n6m-",
        "outputId": "f9c917ff-9979-4237-877b-f421ad7d9133",
        "colab": {
          "base_uri": "https://localhost:8080/",
          "height": 89
        }
      },
      "source": [
        "!pip install rdflib \n",
        "github_storage = \"https://raw.githubusercontent.com/FacultadInformatica-LinkedData/Curso2020-2021/master/Assignment4\""
      ],
      "execution_count": null,
      "outputs": [
        {
          "output_type": "stream",
          "text": [
            "Requirement already satisfied: rdflib in /usr/local/lib/python3.6/dist-packages (5.0.0)\n",
            "Requirement already satisfied: six in /usr/local/lib/python3.6/dist-packages (from rdflib) (1.15.0)\n",
            "Requirement already satisfied: pyparsing in /usr/local/lib/python3.6/dist-packages (from rdflib) (2.4.7)\n",
            "Requirement already satisfied: isodate in /usr/local/lib/python3.6/dist-packages (from rdflib) (0.6.0)\n"
          ],
          "name": "stdout"
        }
      ]
    },
    {
      "cell_type": "markdown",
      "metadata": {
        "id": "XY7aPc86Bqoo"
      },
      "source": [
        "Read the RDF file"
      ]
    },
    {
      "cell_type": "code",
      "metadata": {
        "id": "9ERh415on7kF",
        "outputId": "51433955-767d-4ac0-b892-5769e607b0de",
        "colab": {
          "base_uri": "https://localhost:8080/",
          "height": 35
        }
      },
      "source": [
        "from rdflib import Graph, Namespace, Literal\n",
        "from rdflib.namespace import RDF, RDFS\n",
        "g = Graph()\n",
        "g.namespace_manager.bind('ns', Namespace(\"http://somewhere#\"), override=False)\n",
        "g.namespace_manager.bind('vcard', Namespace(\"http://www.w3.org/2001/vcard-rdf/3.0#\"), override=False)\n",
        "g.parse(github_storage+\"/resources/example5.rdf\", format=\"xml\")"
      ],
      "execution_count": null,
      "outputs": [
        {
          "output_type": "execute_result",
          "data": {
            "text/plain": [
              "<Graph identifier=N5acb516504514387803a09598f8a96b5 (<class 'rdflib.graph.Graph'>)>"
            ]
          },
          "metadata": {
            "tags": []
          },
          "execution_count": 26
        }
      ]
    },
    {
      "cell_type": "markdown",
      "metadata": {
        "id": "gM3DASkTQQ5Y"
      },
      "source": [
        "Create a new class named Researcher"
      ]
    },
    {
      "cell_type": "code",
      "metadata": {
        "id": "6vtudax8Xb7b",
        "outputId": "24098d86-4f02-4c76-e555-b2622f10f3d2",
        "colab": {
          "base_uri": "https://localhost:8080/",
          "height": 305
        }
      },
      "source": [
        "ns = Namespace(\"http://somewhere#\")\n",
        "g.add((ns.Researcher, RDF.type, RDFS.Class))\n",
        "for s, p, o in g:\n",
        "  print(s,p,o)"
      ],
      "execution_count": null,
      "outputs": [
        {
          "output_type": "stream",
          "text": [
            "http://somewhere#SaraJones http://www.w3.org/2001/vcard-rdf/3.0/Given Sara\n",
            "http://somewhere#JohnSmith http://www.w3.org/1999/02/22-rdf-syntax-ns#type http://somewhere#Person\n",
            "http://somewhere#Researcher http://www.w3.org/1999/02/22-rdf-syntax-ns#type http://www.w3.org/2000/01/rdf-schema#Class\n",
            "http://somewhere#SaraJones http://www.w3.org/2001/vcard-rdf/3.0/Family Jones\n",
            "http://somewhere#SaraJones http://www.w3.org/2001/vcard-rdf/3.0/FN Sara Jones\n",
            "http://somewhere#SaraJones http://www.w3.org/1999/02/22-rdf-syntax-ns#type http://somewhere#Person\n",
            "http://www.w3.org/2001/vcard-rdf/3.0/FN http://www.w3.org/2000/01/rdf-schema#range http://www.w3.org/2001/XMLSchema#string\n",
            "http://www.w3.org/2001/vcard-rdf/3.0/FN http://www.w3.org/1999/02/22-rdf-syntax-ns#type http://www.w3.org/2000/01/rdf-schema#Datatype\n",
            "http://www.w3.org/2001/vcard-rdf/3.0/Given http://www.w3.org/1999/02/22-rdf-syntax-ns#type http://www.w3.org/2000/01/rdf-schema#Datatype\n",
            "http://somewhere#JohnSmith http://www.w3.org/2001/vcard-rdf/3.0/Family Smith\n",
            "http://www.w3.org/2001/vcard-rdf/3.0/Given http://www.w3.org/2000/01/rdf-schema#range http://www.w3.org/2001/XMLSchema#string\n",
            "http://www.w3.org/2001/vcard-rdf/3.0/Family http://www.w3.org/1999/02/22-rdf-syntax-ns#type http://www.w3.org/2000/01/rdf-schema#Property\n",
            "http://somewhere#Person http://www.w3.org/1999/02/22-rdf-syntax-ns#type http://www.w3.org/2000/01/rdf-schema#Class\n",
            "http://somewhere#JohnSmith http://www.w3.org/2001/vcard-rdf/3.0/Given John\n",
            "http://www.w3.org/2001/vcard-rdf/3.0/Family http://www.w3.org/2000/01/rdf-schema#range http://www.w3.org/2001/XMLSchema#string\n",
            "http://somewhere#JohnSmith http://www.w3.org/2001/vcard-rdf/3.0/FN John Smith\n"
          ],
          "name": "stdout"
        }
      ]
    },
    {
      "cell_type": "markdown",
      "metadata": {
        "id": "qp1oe2Eddsvo"
      },
      "source": [
        "**TASK 6.1: Create a new class named \"University\"**"
      ]
    },
    {
      "cell_type": "code",
      "metadata": {
        "id": "s0SW3scI9myQ",
        "outputId": "12bc99ea-dd65-4d09-84ba-8611c569edb7",
        "colab": {
          "base_uri": "https://localhost:8080/",
          "height": 323
        }
      },
      "source": [
        "g.add((ns.University, RDF.type, RDFS.Class))\n",
        "for s, p, o in g:\n",
        "  print(s,p,o)"
      ],
      "execution_count": null,
      "outputs": [
        {
          "output_type": "stream",
          "text": [
            "http://somewhere#SaraJones http://www.w3.org/2001/vcard-rdf/3.0/Given Sara\n",
            "http://somewhere#JohnSmith http://www.w3.org/1999/02/22-rdf-syntax-ns#type http://somewhere#Person\n",
            "http://somewhere#Researcher http://www.w3.org/1999/02/22-rdf-syntax-ns#type http://www.w3.org/2000/01/rdf-schema#Class\n",
            "http://somewhere#SaraJones http://www.w3.org/2001/vcard-rdf/3.0/Family Jones\n",
            "http://somewhere#SaraJones http://www.w3.org/2001/vcard-rdf/3.0/FN Sara Jones\n",
            "http://somewhere#SaraJones http://www.w3.org/1999/02/22-rdf-syntax-ns#type http://somewhere#Person\n",
            "http://www.w3.org/2001/vcard-rdf/3.0/FN http://www.w3.org/2000/01/rdf-schema#range http://www.w3.org/2001/XMLSchema#string\n",
            "http://www.w3.org/2001/vcard-rdf/3.0/FN http://www.w3.org/1999/02/22-rdf-syntax-ns#type http://www.w3.org/2000/01/rdf-schema#Datatype\n",
            "http://www.w3.org/2001/vcard-rdf/3.0/Given http://www.w3.org/1999/02/22-rdf-syntax-ns#type http://www.w3.org/2000/01/rdf-schema#Datatype\n",
            "http://somewhere#JohnSmith http://www.w3.org/2001/vcard-rdf/3.0/Family Smith\n",
            "http://www.w3.org/2001/vcard-rdf/3.0/Given http://www.w3.org/2000/01/rdf-schema#range http://www.w3.org/2001/XMLSchema#string\n",
            "http://www.w3.org/2001/vcard-rdf/3.0/Family http://www.w3.org/1999/02/22-rdf-syntax-ns#type http://www.w3.org/2000/01/rdf-schema#Property\n",
            "http://somewhere#Person http://www.w3.org/1999/02/22-rdf-syntax-ns#type http://www.w3.org/2000/01/rdf-schema#Class\n",
            "http://somewhere#University http://www.w3.org/1999/02/22-rdf-syntax-ns#type http://www.w3.org/2000/01/rdf-schema#Class\n",
            "http://somewhere#JohnSmith http://www.w3.org/2001/vcard-rdf/3.0/Given John\n",
            "http://www.w3.org/2001/vcard-rdf/3.0/Family http://www.w3.org/2000/01/rdf-schema#range http://www.w3.org/2001/XMLSchema#string\n",
            "http://somewhere#JohnSmith http://www.w3.org/2001/vcard-rdf/3.0/FN John Smith\n"
          ],
          "name": "stdout"
        }
      ]
    },
    {
      "cell_type": "markdown",
      "metadata": {
        "id": "MXBqtBkJd22I"
      },
      "source": [
        "**TASK 6.2: Add \"Researcher\" as a subclass of \"Person\"**"
      ]
    },
    {
      "cell_type": "code",
      "metadata": {
        "id": "JAtsX5Qg_ygI",
        "outputId": "215e41af-10d9-47e6-c20d-5c3d23db0460",
        "colab": {
          "base_uri": "https://localhost:8080/",
          "height": 341
        }
      },
      "source": [
        "g.add((ns.Researcher, RDFS.subClassOf, ns.Person ))\n",
        "for s, p, o in g:\n",
        "  print(s,p,o)"
      ],
      "execution_count": null,
      "outputs": [
        {
          "output_type": "stream",
          "text": [
            "http://somewhere#SaraJones http://www.w3.org/2001/vcard-rdf/3.0/Given Sara\n",
            "http://somewhere#JohnSmith http://www.w3.org/1999/02/22-rdf-syntax-ns#type http://somewhere#Person\n",
            "http://somewhere#Researcher http://www.w3.org/1999/02/22-rdf-syntax-ns#type http://www.w3.org/2000/01/rdf-schema#Class\n",
            "http://somewhere#SaraJones http://www.w3.org/2001/vcard-rdf/3.0/Family Jones\n",
            "http://somewhere#SaraJones http://www.w3.org/2001/vcard-rdf/3.0/FN Sara Jones\n",
            "http://somewhere#SaraJones http://www.w3.org/1999/02/22-rdf-syntax-ns#type http://somewhere#Person\n",
            "http://www.w3.org/2001/vcard-rdf/3.0/FN http://www.w3.org/2000/01/rdf-schema#range http://www.w3.org/2001/XMLSchema#string\n",
            "http://www.w3.org/2001/vcard-rdf/3.0/FN http://www.w3.org/1999/02/22-rdf-syntax-ns#type http://www.w3.org/2000/01/rdf-schema#Datatype\n",
            "http://www.w3.org/2001/vcard-rdf/3.0/Given http://www.w3.org/1999/02/22-rdf-syntax-ns#type http://www.w3.org/2000/01/rdf-schema#Datatype\n",
            "http://somewhere#JohnSmith http://www.w3.org/2001/vcard-rdf/3.0/Family Smith\n",
            "http://www.w3.org/2001/vcard-rdf/3.0/Given http://www.w3.org/2000/01/rdf-schema#range http://www.w3.org/2001/XMLSchema#string\n",
            "http://www.w3.org/2001/vcard-rdf/3.0/Family http://www.w3.org/1999/02/22-rdf-syntax-ns#type http://www.w3.org/2000/01/rdf-schema#Property\n",
            "http://somewhere#Researcher http://www.w3.org/2000/01/rdf-schema#subClassOf http://somewhere#Person\n",
            "http://somewhere#Person http://www.w3.org/1999/02/22-rdf-syntax-ns#type http://www.w3.org/2000/01/rdf-schema#Class\n",
            "http://somewhere#University http://www.w3.org/1999/02/22-rdf-syntax-ns#type http://www.w3.org/2000/01/rdf-schema#Class\n",
            "http://somewhere#JohnSmith http://www.w3.org/2001/vcard-rdf/3.0/Given John\n",
            "http://www.w3.org/2001/vcard-rdf/3.0/Family http://www.w3.org/2000/01/rdf-schema#range http://www.w3.org/2001/XMLSchema#string\n",
            "http://somewhere#JohnSmith http://www.w3.org/2001/vcard-rdf/3.0/FN John Smith\n"
          ],
          "name": "stdout"
        }
      ]
    },
    {
      "cell_type": "markdown",
      "metadata": {
        "id": "OGct6k7Ld9O0"
      },
      "source": [
        "**TASK 6.3: Create a new individual of Researcher named \"Jane Smith\"**"
      ]
    },
    {
      "cell_type": "code",
      "metadata": {
        "id": "lj4LNWToAM2J",
        "outputId": "80348a37-6d7d-4b91-92a9-fc86341049af",
        "colab": {
          "base_uri": "https://localhost:8080/",
          "height": 359
        }
      },
      "source": [
        "g.add((ns.JaneSmith, RDF.type, ns.Researcher))\n",
        "for s, p, o in g:\n",
        "  print(s,p,o)"
      ],
      "execution_count": null,
      "outputs": [
        {
          "output_type": "stream",
          "text": [
            "http://somewhere#SaraJones http://www.w3.org/2001/vcard-rdf/3.0/Given Sara\n",
            "http://somewhere#JohnSmith http://www.w3.org/1999/02/22-rdf-syntax-ns#type http://somewhere#Person\n",
            "http://somewhere#Researcher http://www.w3.org/1999/02/22-rdf-syntax-ns#type http://www.w3.org/2000/01/rdf-schema#Class\n",
            "http://somewhere#SaraJones http://www.w3.org/2001/vcard-rdf/3.0/Family Jones\n",
            "http://somewhere#SaraJones http://www.w3.org/2001/vcard-rdf/3.0/FN Sara Jones\n",
            "http://somewhere#SaraJones http://www.w3.org/1999/02/22-rdf-syntax-ns#type http://somewhere#Person\n",
            "http://www.w3.org/2001/vcard-rdf/3.0/FN http://www.w3.org/2000/01/rdf-schema#range http://www.w3.org/2001/XMLSchema#string\n",
            "http://www.w3.org/2001/vcard-rdf/3.0/FN http://www.w3.org/1999/02/22-rdf-syntax-ns#type http://www.w3.org/2000/01/rdf-schema#Datatype\n",
            "http://www.w3.org/2001/vcard-rdf/3.0/Given http://www.w3.org/1999/02/22-rdf-syntax-ns#type http://www.w3.org/2000/01/rdf-schema#Datatype\n",
            "http://somewhere#JohnSmith http://www.w3.org/2001/vcard-rdf/3.0/Family Smith\n",
            "http://www.w3.org/2001/vcard-rdf/3.0/Given http://www.w3.org/2000/01/rdf-schema#range http://www.w3.org/2001/XMLSchema#string\n",
            "http://www.w3.org/2001/vcard-rdf/3.0/Family http://www.w3.org/1999/02/22-rdf-syntax-ns#type http://www.w3.org/2000/01/rdf-schema#Property\n",
            "http://somewhere#Researcher http://www.w3.org/2000/01/rdf-schema#subClassOf http://somewhere#Person\n",
            "http://somewhere#Person http://www.w3.org/1999/02/22-rdf-syntax-ns#type http://www.w3.org/2000/01/rdf-schema#Class\n",
            "http://somewhere#University http://www.w3.org/1999/02/22-rdf-syntax-ns#type http://www.w3.org/2000/01/rdf-schema#Class\n",
            "http://somewhere#JohnSmith http://www.w3.org/2001/vcard-rdf/3.0/Given John\n",
            "http://www.w3.org/2001/vcard-rdf/3.0/Family http://www.w3.org/2000/01/rdf-schema#range http://www.w3.org/2001/XMLSchema#string\n",
            "http://somewhere#JohnSmith http://www.w3.org/2001/vcard-rdf/3.0/FN John Smith\n",
            "http://somewhere#JaneSmith http://www.w3.org/1999/02/22-rdf-syntax-ns#type http://somewhere#Researcher\n"
          ],
          "name": "stdout"
        }
      ]
    },
    {
      "cell_type": "markdown",
      "metadata": {
        "id": "tD383J__eHfV"
      },
      "source": [
        "**TASK 6.4: Add to the individual JaneSmith the fullName, given and family names**"
      ]
    },
    {
      "cell_type": "code",
      "metadata": {
        "id": "2hn5WWToClNz",
        "outputId": "fb22ff8b-f9d8-4d1f-b9fb-8e541e78dace",
        "colab": {
          "base_uri": "https://localhost:8080/",
          "height": 413
        }
      },
      "source": [
        "fullName = Literal(\"Jane Smith\")\n",
        "givenName = Literal(\"Jane\")\n",
        "familyName = Literal(\"Smith\")\n",
        "\n",
        "vcard = Namespace(\"http://www.w3.org/2001/vcard-rdf/3.0#\")\n",
        "g.add((ns.JaneSmith, vcard.FullName, fullName))\n",
        "g.add((ns.JaneSmith, vcard.GivenName, givenName))\n",
        "g.add((ns.JaneSmith, vcard.FamilyName, familyName))\n",
        "for s, p, o in g:\n",
        "  print(s,p,o)\n"
      ],
      "execution_count": null,
      "outputs": [
        {
          "output_type": "stream",
          "text": [
            "http://somewhere#SaraJones http://www.w3.org/2001/vcard-rdf/3.0/Given Sara\n",
            "http://somewhere#JaneSmith http://www.w3.org/2001/vcard-rdf/3.0#FamilyName Smith\n",
            "http://somewhere#JohnSmith http://www.w3.org/1999/02/22-rdf-syntax-ns#type http://somewhere#Person\n",
            "http://somewhere#Researcher http://www.w3.org/1999/02/22-rdf-syntax-ns#type http://www.w3.org/2000/01/rdf-schema#Class\n",
            "http://somewhere#SaraJones http://www.w3.org/2001/vcard-rdf/3.0/Family Jones\n",
            "http://somewhere#SaraJones http://www.w3.org/2001/vcard-rdf/3.0/FN Sara Jones\n",
            "http://somewhere#SaraJones http://www.w3.org/1999/02/22-rdf-syntax-ns#type http://somewhere#Person\n",
            "http://www.w3.org/2001/vcard-rdf/3.0/FN http://www.w3.org/2000/01/rdf-schema#range http://www.w3.org/2001/XMLSchema#string\n",
            "http://www.w3.org/2001/vcard-rdf/3.0/FN http://www.w3.org/1999/02/22-rdf-syntax-ns#type http://www.w3.org/2000/01/rdf-schema#Datatype\n",
            "http://www.w3.org/2001/vcard-rdf/3.0/Given http://www.w3.org/1999/02/22-rdf-syntax-ns#type http://www.w3.org/2000/01/rdf-schema#Datatype\n",
            "http://somewhere#JohnSmith http://www.w3.org/2001/vcard-rdf/3.0/Family Smith\n",
            "http://www.w3.org/2001/vcard-rdf/3.0/Given http://www.w3.org/2000/01/rdf-schema#range http://www.w3.org/2001/XMLSchema#string\n",
            "http://www.w3.org/2001/vcard-rdf/3.0/Family http://www.w3.org/1999/02/22-rdf-syntax-ns#type http://www.w3.org/2000/01/rdf-schema#Property\n",
            "http://somewhere#Researcher http://www.w3.org/2000/01/rdf-schema#subClassOf http://somewhere#Person\n",
            "http://somewhere#Person http://www.w3.org/1999/02/22-rdf-syntax-ns#type http://www.w3.org/2000/01/rdf-schema#Class\n",
            "http://somewhere#University http://www.w3.org/1999/02/22-rdf-syntax-ns#type http://www.w3.org/2000/01/rdf-schema#Class\n",
            "http://somewhere#JohnSmith http://www.w3.org/2001/vcard-rdf/3.0/Given John\n",
            "http://www.w3.org/2001/vcard-rdf/3.0/Family http://www.w3.org/2000/01/rdf-schema#range http://www.w3.org/2001/XMLSchema#string\n",
            "http://somewhere#JaneSmith http://www.w3.org/2001/vcard-rdf/3.0#GivenName Jane\n",
            "http://somewhere#JohnSmith http://www.w3.org/2001/vcard-rdf/3.0/FN John Smith\n",
            "http://somewhere#JaneSmith http://www.w3.org/1999/02/22-rdf-syntax-ns#type http://somewhere#Researcher\n",
            "http://somewhere#JaneSmith http://www.w3.org/2001/vcard-rdf/3.0#FullName Jane Smith\n"
          ],
          "name": "stdout"
        }
      ]
    },
    {
      "cell_type": "markdown",
      "metadata": {
        "id": "GyZOMndoeUj4"
      },
      "source": [
        "**TASK 6.5: Add UPM as the university where John Smith works**"
      ]
    },
    {
      "cell_type": "code",
      "metadata": {
        "id": "C-VvXCoEEade",
        "outputId": "61da8024-0954-4286-e825-93fa39cc92b0",
        "colab": {
          "base_uri": "https://localhost:8080/",
          "height": 449
        }
      },
      "source": [
        "g.add((ns.UPM, RDF.type, ns.University))\n",
        "g.add((ns.JaneSmith, vcard.WorkAt, ns.UPM))\n",
        "for s, p, o in g:\n",
        "  print(s,p,o)"
      ],
      "execution_count": null,
      "outputs": [
        {
          "output_type": "stream",
          "text": [
            "http://somewhere#SaraJones http://www.w3.org/2001/vcard-rdf/3.0/Given Sara\n",
            "http://somewhere#JaneSmith http://www.w3.org/2001/vcard-rdf/3.0#FamilyName Smith\n",
            "http://somewhere#JohnSmith http://www.w3.org/1999/02/22-rdf-syntax-ns#type http://somewhere#Person\n",
            "http://somewhere#Researcher http://www.w3.org/1999/02/22-rdf-syntax-ns#type http://www.w3.org/2000/01/rdf-schema#Class\n",
            "http://somewhere#SaraJones http://www.w3.org/2001/vcard-rdf/3.0/Family Jones\n",
            "http://somewhere#SaraJones http://www.w3.org/2001/vcard-rdf/3.0/FN Sara Jones\n",
            "http://somewhere#SaraJones http://www.w3.org/1999/02/22-rdf-syntax-ns#type http://somewhere#Person\n",
            "http://www.w3.org/2001/vcard-rdf/3.0/FN http://www.w3.org/2000/01/rdf-schema#range http://www.w3.org/2001/XMLSchema#string\n",
            "http://somewhere#UPM http://www.w3.org/1999/02/22-rdf-syntax-ns#type http://somewhere#University\n",
            "http://www.w3.org/2001/vcard-rdf/3.0/FN http://www.w3.org/1999/02/22-rdf-syntax-ns#type http://www.w3.org/2000/01/rdf-schema#Datatype\n",
            "http://www.w3.org/2001/vcard-rdf/3.0/Given http://www.w3.org/1999/02/22-rdf-syntax-ns#type http://www.w3.org/2000/01/rdf-schema#Datatype\n",
            "http://somewhere#JohnSmith http://www.w3.org/2001/vcard-rdf/3.0/Family Smith\n",
            "http://www.w3.org/2001/vcard-rdf/3.0/Given http://www.w3.org/2000/01/rdf-schema#range http://www.w3.org/2001/XMLSchema#string\n",
            "http://www.w3.org/2001/vcard-rdf/3.0/Family http://www.w3.org/1999/02/22-rdf-syntax-ns#type http://www.w3.org/2000/01/rdf-schema#Property\n",
            "http://somewhere#Researcher http://www.w3.org/2000/01/rdf-schema#subClassOf http://somewhere#Person\n",
            "http://somewhere#Person http://www.w3.org/1999/02/22-rdf-syntax-ns#type http://www.w3.org/2000/01/rdf-schema#Class\n",
            "http://somewhere#University http://www.w3.org/1999/02/22-rdf-syntax-ns#type http://www.w3.org/2000/01/rdf-schema#Class\n",
            "http://somewhere#JohnSmith http://www.w3.org/2001/vcard-rdf/3.0/Given John\n",
            "http://www.w3.org/2001/vcard-rdf/3.0/Family http://www.w3.org/2000/01/rdf-schema#range http://www.w3.org/2001/XMLSchema#string\n",
            "http://somewhere#JaneSmith http://www.w3.org/2001/vcard-rdf/3.0#GivenName Jane\n",
            "http://somewhere#JaneSmith http://www.w3.org/2001/vcard-rdf/3.0#WorkAt http://somewhere#UPM\n",
            "http://somewhere#JohnSmith http://www.w3.org/2001/vcard-rdf/3.0/FN John Smith\n",
            "http://somewhere#JaneSmith http://www.w3.org/1999/02/22-rdf-syntax-ns#type http://somewhere#Researcher\n",
            "http://somewhere#JaneSmith http://www.w3.org/2001/vcard-rdf/3.0#FullName Jane Smith\n"
          ],
          "name": "stdout"
        }
      ]
    }
  ]
}