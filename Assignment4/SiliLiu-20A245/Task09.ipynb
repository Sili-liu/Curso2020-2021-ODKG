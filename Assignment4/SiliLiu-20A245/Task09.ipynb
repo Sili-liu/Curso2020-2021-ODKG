{
  "nbformat": 4,
  "nbformat_minor": 0,
  "metadata": {
    "colab": {
      "name": "Task09.ipynb",
      "provenance": [],
      "collapsed_sections": []
    },
    "kernelspec": {
      "name": "python3",
      "display_name": "Python 3"
    }
  },
  "cells": [
    {
      "cell_type": "markdown",
      "metadata": {
        "id": "wIhJ69byU2Ad"
      },
      "source": [
        "**Task 09: Data linking**"
      ]
    },
    {
      "cell_type": "code",
      "metadata": {
        "id": "0sQG2Y915Isp",
        "outputId": "2572099b-6241-45f5-dece-4b3d30d782fe",
        "colab": {
          "base_uri": "https://localhost:8080/",
          "height": 89
        }
      },
      "source": [
        "!pip install rdflib\n",
        "github_storage = \"https://raw.githubusercontent.com/FacultadInformatica-LinkedData/Curso2020-2021/master/Assignment4/\""
      ],
      "execution_count": 10,
      "outputs": [
        {
          "output_type": "stream",
          "text": [
            "Requirement already satisfied: rdflib in /usr/local/lib/python3.6/dist-packages (5.0.0)\n",
            "Requirement already satisfied: isodate in /usr/local/lib/python3.6/dist-packages (from rdflib) (0.6.0)\n",
            "Requirement already satisfied: six in /usr/local/lib/python3.6/dist-packages (from rdflib) (1.15.0)\n",
            "Requirement already satisfied: pyparsing in /usr/local/lib/python3.6/dist-packages (from rdflib) (2.4.7)\n"
          ],
          "name": "stdout"
        }
      ]
    },
    {
      "cell_type": "code",
      "metadata": {
        "id": "Jb4QeLue5NLr",
        "outputId": "9b4a1628-deda-46c2-dcc7-1496ef53a8bb",
        "colab": {
          "base_uri": "https://localhost:8080/",
          "height": 35
        }
      },
      "source": [
        "from rdflib import Graph, Namespace, Literal, URIRef\n",
        "g1 = Graph()\n",
        "g2 = Graph()\n",
        "g3 = Graph()\n",
        "g1.parse(github_storage+\"resources/data03.rdf\", format=\"xml\")\n",
        "g2.parse(github_storage+\"resources/data04.rdf\", format=\"xml\")"
      ],
      "execution_count": 11,
      "outputs": [
        {
          "output_type": "execute_result",
          "data": {
            "text/plain": [
              "<Graph identifier=Nec4a5f9482584c8eb214589372993409 (<class 'rdflib.graph.Graph'>)>"
            ]
          },
          "metadata": {
            "tags": []
          },
          "execution_count": 11
        }
      ]
    },
    {
      "cell_type": "markdown",
      "metadata": {
        "id": "5wfBZiQSU827"
      },
      "source": [
        "Search for individuals in the two graphs and link them using the OWL: sameAs property, insert these matches in g3. We consider that two individuals are the same if they have the same nickname and family name. Keep in mind that the URIs do not have to be the same for the same individual in the two graphs."
      ]
    },
    {
      "cell_type": "code",
      "metadata": {
        "id": "L0PEDoiLix6J",
        "outputId": "fff0c156-6bd7-4ea6-c13a-2c6372ec8a81",
        "colab": {
          "base_uri": "https://localhost:8080/",
          "height": 917
        }
      },
      "source": [
        "from rdflib.plugins.sparql import prepareQuery\n",
        "from rdflib.namespace import RDF, RDFS, OWL\n",
        "\n",
        "\n",
        "vcard = Namespace(\"http://www.w3.org/2001/vcard-rdf/3.0#\")\n",
        "ns3 = Namespace(\"http://data.three.org#\") ##Follow the Documento\n",
        "ns4 = Namespace(\"http://data.four.org#\") ##Follow the Documento\n",
        "\n",
        "#Search for individuals in the two graphs\n",
        "for s,p,o in g1:\n",
        "  print(s,p,o)\n",
        "\n",
        "print(\"-------------------------------------------------------------------------\")\n",
        "\n",
        "for s,p,o in g2:\n",
        "  print(s,p,o)"
      ],
      "execution_count": 24,
      "outputs": [
        {
          "output_type": "stream",
          "text": [
            "http://www.w3.org/2001/vcard-rdf/3.0/Given http://www.w3.org/2000/01/rdf-schema#range http://www.w3.org/2001/XMLSchema#string\n",
            "http://data.three.org#JohnDoe http://www.w3.org/1999/02/22-rdf-syntax-ns#type http://data.three.org#Person\n",
            "http://www.w3.org/2001/vcard-rdf/3.0/Family http://www.w3.org/1999/02/22-rdf-syntax-ns#type http://www.w3.org/2000/01/rdf-schema#Property\n",
            "http://www.w3.org/2001/vcard-rdf/3.0/FN http://www.w3.org/1999/02/22-rdf-syntax-ns#type http://www.w3.org/2000/01/rdf-schema#Datatype\n",
            "http://data.three.org#JohnSmith http://www.w3.org/2001/vcard-rdf/3.0#Family Smith\n",
            "http://data.three.org#SaraJones http://www.w3.org/2001/vcard-rdf/3.0#Given Sara\n",
            "http://data.three.org#JohnSmith http://www.w3.org/1999/02/22-rdf-syntax-ns#type http://data.three.org#Person\n",
            "http://data.three.org#JohnSmith http://www.w3.org/2001/vcard-rdf/3.0#FN John Smith\n",
            "http://data.three.org#SaraJones http://www.w3.org/1999/02/22-rdf-syntax-ns#type http://data.three.org#Person\n",
            "http://www.w3.org/2001/vcard-rdf/3.0/Family http://www.w3.org/2000/01/rdf-schema#range http://www.w3.org/2001/XMLSchema#string\n",
            "http://data.three.org#JohnDoe http://www.w3.org/2001/vcard-rdf/3.0#Given John\n",
            "http://www.w3.org/2001/vcard-rdf/3.0/FN http://www.w3.org/2000/01/rdf-schema#range http://www.w3.org/2001/XMLSchema#string\n",
            "http://data.three.org#SaraJones http://www.w3.org/2001/vcard-rdf/3.0#Family Jones\n",
            "http://data.three.org#Person http://www.w3.org/1999/02/22-rdf-syntax-ns#type http://www.w3.org/2000/01/rdf-schema#Class\n",
            "http://www.w3.org/2001/vcard-rdf/3.0/Given http://www.w3.org/1999/02/22-rdf-syntax-ns#type http://www.w3.org/2000/01/rdf-schema#Datatype\n",
            "http://data.three.org#HarryPotter http://www.w3.org/2001/vcard-rdf/3.0#Given Harry\n",
            "http://data.three.org#HarryPotter http://www.w3.org/2001/vcard-rdf/3.0#FN Harry Potter\n",
            "http://data.three.org#JohnDoe http://www.w3.org/2001/vcard-rdf/3.0#Family Doe\n",
            "http://data.three.org#JohnDoe http://www.w3.org/2001/vcard-rdf/3.0#FN John Doe\n",
            "http://data.three.org#SaraJones http://www.w3.org/2001/vcard-rdf/3.0#FN Sara Jones\n",
            "http://data.three.org#JohnSmith http://www.w3.org/2001/vcard-rdf/3.0#Given John\n",
            "http://data.three.org#HarryPotter http://www.w3.org/1999/02/22-rdf-syntax-ns#type http://data.three.org#Person\n",
            "-------------------------------------------------------------------------\n",
            "http://www.w3.org/2001/vcard-rdf/3.0/Given http://www.w3.org/2000/01/rdf-schema#range http://www.w3.org/2001/XMLSchema#string\n",
            "http://data.four.org#0001 http://www.w3.org/1999/02/22-rdf-syntax-ns#type http://data.four.org#Person\n",
            "http://data.four.org#0005 http://www.w3.org/2001/vcard-rdf/3.0#Family Doe\n",
            "http://www.w3.org/2001/vcard-rdf/3.0/FN http://www.w3.org/2000/01/rdf-schema#range http://www.w3.org/2001/XMLSchema#string\n",
            "http://data.four.org#0002 http://www.w3.org/2001/vcard-rdf/3.0#Given Jonathan\n",
            "http://data.four.org#0001 http://www.w3.org/2001/vcard-rdf/3.0#Given Sara\n",
            "http://www.w3.org/2001/vcard-rdf/3.0/Family http://www.w3.org/1999/02/22-rdf-syntax-ns#type http://www.w3.org/2000/01/rdf-schema#Property\n",
            "http://data.four.org#Person http://www.w3.org/1999/02/22-rdf-syntax-ns#type http://www.w3.org/2000/01/rdf-schema#Class\n",
            "http://data.four.org#0003 http://www.w3.org/2001/vcard-rdf/3.0#Given Harry\n",
            "http://data.four.org#0003 http://www.w3.org/1999/02/22-rdf-syntax-ns#type http://data.four.org#Person\n",
            "http://data.four.org#0004 http://www.w3.org/1999/02/22-rdf-syntax-ns#type http://data.four.org#Person\n",
            "http://data.four.org#0005 http://www.w3.org/2001/vcard-rdf/3.0#Given John\n",
            "http://data.four.org#0005 http://www.w3.org/2001/vcard-rdf/3.0#FN John Doe\n",
            "http://data.four.org#0001 http://www.w3.org/2001/vcard-rdf/3.0#Family Jones\n",
            "http://www.w3.org/2001/vcard-rdf/3.0/Family http://www.w3.org/2000/01/rdf-schema#range http://www.w3.org/2001/XMLSchema#string\n",
            "http://data.four.org#0002 http://www.w3.org/2001/vcard-rdf/3.0#Family Smith\n",
            "http://www.w3.org/2001/vcard-rdf/3.0/Given http://www.w3.org/1999/02/22-rdf-syntax-ns#type http://www.w3.org/2000/01/rdf-schema#Datatype\n",
            "http://data.four.org#0003 http://www.w3.org/2001/vcard-rdf/3.0#FN Harry Potter\n",
            "http://data.four.org#0004 http://www.w3.org/2001/vcard-rdf/3.0#Given Tim\n",
            "http://data.four.org#0002 http://www.w3.org/1999/02/22-rdf-syntax-ns#type http://data.four.org#Person\n",
            "http://data.four.org#0001 http://www.w3.org/2001/vcard-rdf/3.0#FN Sara Jones\n",
            "http://data.four.org#0005 http://www.w3.org/1999/02/22-rdf-syntax-ns#type http://data.four.org#Person\n",
            "http://data.four.org#0004 http://www.w3.org/2001/vcard-rdf/3.0#FN Tim Berners Lee\n",
            "http://data.four.org#0004 http://www.w3.org/2001/vcard-rdf/3.0#Family Berners Lee\n",
            "http://www.w3.org/2001/vcard-rdf/3.0/FN http://www.w3.org/1999/02/22-rdf-syntax-ns#type http://www.w3.org/2000/01/rdf-schema#Datatype\n",
            "http://data.four.org#0003 http://www.w3.org/2001/vcard-rdf/3.0#Family Potter\n",
            "http://data.four.org#0002 http://www.w3.org/2001/vcard-rdf/3.0#FN John Smith\n"
          ],
          "name": "stdout"
        }
      ]
    },
    {
      "cell_type": "code",
      "metadata": {
        "id": "WUcl8Mx7kM2b",
        "outputId": "fd426f25-8242-4702-8514-9a47428b1aa8",
        "colab": {
          "base_uri": "https://localhost:8080/",
          "height": 197
        }
      },
      "source": [
        "#Search for nicknames(Consider it`s like given name) and family names in the two graphs = FullNAME\n",
        "q1 = prepareQuery('''\n",
        "  SELECT \n",
        "    ?Subject ?GIVEN ?FAMILY ?FN\n",
        "  WHERE { \n",
        "    ?Subject rdf:type ns:Person.\n",
        "    ?Subject vcard:FN ?FN.\n",
        "    \n",
        "    OPTIONAL{?Subject vcard:Family ?GIVEN.\n",
        "    ?Subject vcard:Given ?FAMILY.\n",
        "    }\n",
        "    \n",
        "  }\n",
        "  ''',\n",
        "  initNs = {\"rdf\":RDF, \"ns\":ns3, \"vcard\": vcard}\n",
        ")\n",
        "g_aux1 = []\n",
        "for r in g1.query(q1):\n",
        "  g_aux1.append(r)#insert \"append\"\n",
        "  print(r)\n",
        "\n",
        "\n",
        "\n",
        "print(\"-------------------------------------------------------------------------\")\n",
        "q2 = prepareQuery('''\n",
        "  SELECT \n",
        "    ?Subject ?GIVEN ?FAMILY ?FN\n",
        "  WHERE { \n",
        "    ?Subject rdf:type ns:Person.\n",
        "    ?Subject vcard:FN ?FN.\n",
        "    \n",
        "    OPTIONAL{?Subject vcard:Family ?GIVEN.\n",
        "    ?Subject vcard:Given ?FAMILY.\n",
        "    }\n",
        "    \n",
        "  }\n",
        "  ''',\n",
        "  initNs = {\"rdf\":RDF, \"ns\":ns4, \"vcard\": vcard}\n",
        ")\n",
        "g_aux2 = []\n",
        "for r in g2.query(q2):\n",
        "  g_aux2.append(r)\n",
        "  print(r)\n",
        "\n"
      ],
      "execution_count": 27,
      "outputs": [
        {
          "output_type": "stream",
          "text": [
            "(rdflib.term.URIRef('http://data.three.org#HarryPotter'), None, None, rdflib.term.Literal('Harry Potter', datatype=rdflib.term.URIRef('http://www.w3.org/2001/XMLSchema#string')))\n",
            "(rdflib.term.URIRef('http://data.three.org#JohnSmith'), rdflib.term.Literal('Smith', datatype=rdflib.term.URIRef('http://www.w3.org/2001/XMLSchema#string')), rdflib.term.Literal('John', datatype=rdflib.term.URIRef('http://www.w3.org/2001/XMLSchema#string')), rdflib.term.Literal('John Smith', datatype=rdflib.term.URIRef('http://www.w3.org/2001/XMLSchema#string')))\n",
            "(rdflib.term.URIRef('http://data.three.org#JohnDoe'), rdflib.term.Literal('Doe', datatype=rdflib.term.URIRef('http://www.w3.org/2001/XMLSchema#string')), rdflib.term.Literal('John', datatype=rdflib.term.URIRef('http://www.w3.org/2001/XMLSchema#string')), rdflib.term.Literal('John Doe', datatype=rdflib.term.URIRef('http://www.w3.org/2001/XMLSchema#string')))\n",
            "(rdflib.term.URIRef('http://data.three.org#SaraJones'), rdflib.term.Literal('Jones', datatype=rdflib.term.URIRef('http://www.w3.org/2001/XMLSchema#string')), rdflib.term.Literal('Sara', datatype=rdflib.term.URIRef('http://www.w3.org/2001/XMLSchema#string')), rdflib.term.Literal('Sara Jones', datatype=rdflib.term.URIRef('http://www.w3.org/2001/XMLSchema#string')))\n",
            "-------------------------------------------------------------------------\n",
            "(rdflib.term.URIRef('http://data.four.org#0002'), rdflib.term.Literal('Smith', datatype=rdflib.term.URIRef('http://www.w3.org/2001/XMLSchema#string')), rdflib.term.Literal('Jonathan', datatype=rdflib.term.URIRef('http://www.w3.org/2001/XMLSchema#string')), rdflib.term.Literal('John Smith', datatype=rdflib.term.URIRef('http://www.w3.org/2001/XMLSchema#string')))\n",
            "(rdflib.term.URIRef('http://data.four.org#0001'), rdflib.term.Literal('Jones', datatype=rdflib.term.URIRef('http://www.w3.org/2001/XMLSchema#string')), rdflib.term.Literal('Sara', datatype=rdflib.term.URIRef('http://www.w3.org/2001/XMLSchema#string')), rdflib.term.Literal('Sara Jones', datatype=rdflib.term.URIRef('http://www.w3.org/2001/XMLSchema#string')))\n",
            "(rdflib.term.URIRef('http://data.four.org#0005'), rdflib.term.Literal('Doe', datatype=rdflib.term.URIRef('http://www.w3.org/2001/XMLSchema#string')), rdflib.term.Literal('John', datatype=rdflib.term.URIRef('http://www.w3.org/2001/XMLSchema#string')), rdflib.term.Literal('John Doe', datatype=rdflib.term.URIRef('http://www.w3.org/2001/XMLSchema#string')))\n",
            "(rdflib.term.URIRef('http://data.four.org#0003'), rdflib.term.Literal('Potter', datatype=rdflib.term.URIRef('http://www.w3.org/2001/XMLSchema#string')), rdflib.term.Literal('Harry', datatype=rdflib.term.URIRef('http://www.w3.org/2001/XMLSchema#string')), rdflib.term.Literal('Harry Potter', datatype=rdflib.term.URIRef('http://www.w3.org/2001/XMLSchema#string')))\n",
            "(rdflib.term.URIRef('http://data.four.org#0004'), rdflib.term.Literal('Berners Lee', datatype=rdflib.term.URIRef('http://www.w3.org/2001/XMLSchema#string')), rdflib.term.Literal('Tim', datatype=rdflib.term.URIRef('http://www.w3.org/2001/XMLSchema#string')), rdflib.term.Literal('Tim Berners Lee', datatype=rdflib.term.URIRef('http://www.w3.org/2001/XMLSchema#string')))\n"
          ],
          "name": "stdout"
        }
      ]
    },
    {
      "cell_type": "code",
      "metadata": {
        "id": "e4ft8a8yn9dB",
        "outputId": "61614567-0d11-4c33-d857-be2223e1eb1a",
        "colab": {
          "base_uri": "https://localhost:8080/",
          "height": 89
        }
      },
      "source": [
        "#sameAs\n",
        "for s1 in g_aux1:\n",
        "  for s2 in g_aux2:\n",
        "    if(s1.FN == s2.FN or (s1.GIVEN==s2.GIVEN and s1.FAMILY == s2.FAMILY)):\n",
        "      result=s1.Subject, OWL.sameAs, s2.Subject\n",
        "      g3.add(result)\n",
        "\n",
        "for s,p,o in g3:\n",
        "  print(s,p,o)"
      ],
      "execution_count": 29,
      "outputs": [
        {
          "output_type": "stream",
          "text": [
            "http://data.three.org#SaraJones http://www.w3.org/2002/07/owl#sameAs http://data.four.org#0001\n",
            "http://data.three.org#HarryPotter http://www.w3.org/2002/07/owl#sameAs http://data.four.org#0003\n",
            "http://data.three.org#JohnDoe http://www.w3.org/2002/07/owl#sameAs http://data.four.org#0005\n",
            "http://data.three.org#JohnSmith http://www.w3.org/2002/07/owl#sameAs http://data.four.org#0002\n"
          ],
          "name": "stdout"
        }
      ]
    }
  ]
}